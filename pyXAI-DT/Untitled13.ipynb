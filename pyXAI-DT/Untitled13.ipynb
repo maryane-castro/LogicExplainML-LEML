{
  "nbformat": 4,
  "nbformat_minor": 0,
  "metadata": {
    "colab": {
      "provenance": []
    },
    "kernelspec": {
      "name": "python3",
      "display_name": "Python 3"
    },
    "language_info": {
      "name": "python"
    }
  },
  "cells": [
    {
      "cell_type": "markdown",
      "source": [
        "# Sklearn"
      ],
      "metadata": {
        "id": "81Owa1_wYAcj"
      }
    },
    {
      "cell_type": "markdown",
      "source": [
        "## Importações"
      ],
      "metadata": {
        "id": "cZ1oAf4XWYuo"
      }
    },
    {
      "cell_type": "code",
      "execution_count": 3,
      "metadata": {
        "id": "UXx8uAWMV_E8"
      },
      "outputs": [],
      "source": [
        "import matplotlib.pyplot as plt\n",
        "\n",
        "# Import datasets, classifiers and performance metrics\n",
        "from sklearn import datasets, metrics\n",
        "from sklearn.model_selection import train_test_split\n",
        "from sklearn.tree import DecisionTreeClassifier\n",
        "\n",
        "# dataset format pyXAI\n",
        "import numpy as np\n",
        "import pandas as pd"
      ]
    },
    {
      "cell_type": "markdown",
      "source": [
        "## Dataset"
      ],
      "metadata": {
        "id": "Lmm_lNaqWajW"
      }
    },
    {
      "cell_type": "code",
      "source": [
        "digits = datasets.load_digits()\n",
        "\n",
        "_, axes = plt.subplots(nrows=1, ncols=5, figsize=(10, 3))\n",
        "for ax, image, label in zip(axes, digits.images, digits.target):\n",
        "    ax.set_axis_off()\n",
        "    ax.imshow(image, cmap=plt.cm.gray_r, interpolation=\"nearest\")\n",
        "    ax.set_title(\"Training: %i\" % label)"
      ],
      "metadata": {
        "colab": {
          "base_uri": "https://localhost:8080/",
          "height": 192
        },
        "id": "TEjBhK8GWcfd",
        "outputId": "3c9f9bd0-8df6-44d4-c191-8c3f46b4902f"
      },
      "execution_count": 4,
      "outputs": [
        {
          "output_type": "display_data",
          "data": {
            "text/plain": [
              "<Figure size 1000x300 with 5 Axes>"
            ],
            "image/png": "[encoded data removed]"
          },
          "metadata": {}
        }
      ]
    },
    {
      "cell_type": "markdown",
      "source": [
        "## Treinamento"
      ],
      "metadata": {
        "id": "FE9YJ4FFXKPn"
      }
    },
    {
      "cell_type": "code",
      "source": [
        "# achatar as imagens\n",
        "n_samples = len(digits.images) # quantidade total de amostras\n",
        "data = digits.images.reshape((n_samples, -1))\n",
        "\n",
        "# Crie um classificador: um classificador de árvore de decisão\n",
        "clf = DecisionTreeClassifier()\n",
        "\n",
        "# divisão dos dados em 50% de treinamento e 50% de subconjuntos de teste\n",
        "X_train, X_test, y_train, y_test = train_test_split(\n",
        "    data, digits.target, test_size=0.5, shuffle=False\n",
        ")\n",
        "\n",
        "# treinando nosso modelo\n",
        "clf.fit(X_train, y_train)\n",
        "\n",
        "# previsão do valor do dígito no subconjunto de teste\n",
        "predicted = clf.predict(X_test)"
      ],
      "metadata": {
        "id": "PwqcOLlnWqA6"
      },
      "execution_count": 6,
      "outputs": []
    },
    {
      "cell_type": "markdown",
      "source": [
        "# Alguns Testes de Validação"
      ],
      "metadata": {
        "id": "i3W8Q0noXL7R"
      }
    },
    {
      "cell_type": "code",
      "source": [
        "_, axes = plt.subplots(nrows=1, ncols=4, figsize=(10, 3))\n",
        "for ax, image, prediction in zip(axes, X_test, predicted):\n",
        "    ax.set_axis_off()\n",
        "    image = image.reshape(8, 8)\n",
        "    ax.imshow(image, cmap=plt.cm.gray_r, interpolation=\"nearest\")\n",
        "    ax.set_title(f\"Prediction: {prediction}\")\n"
      ],
      "metadata": {
        "colab": {
          "base_uri": "https://localhost:8080/",
          "height": 227
        },
        "id": "3XHTUjTtXOj3",
        "outputId": "6149a73c-2dad-4bed-99be-07f269ad6e26"
      },
      "execution_count": 7,
      "outputs": [
        {
          "output_type": "display_data",
          "data": {
            "text/plain": [
              "<Figure size 1000x300 with 4 Axes>"
            ],
            "image/png": "[encoded data removed]"
          },
          "metadata": {}
        }
      ]
    },
    {
      "cell_type": "code",
      "source": [
        "print(\n",
        "    f\"Classification report for classifier {clf}:\\n\"\n",
        "    f\"{metrics.classification_report(y_test, predicted)}\\n\"\n",
        ")"
      ],
      "metadata": {
        "colab": {
          "base_uri": "https://localhost:8080/"
        },
        "id": "ijUw5eRwXaeP",
        "outputId": "918991ce-39fb-4ef0-9b37-b211c989dc9a"
      },
      "execution_count": 8,
      "outputs": [
        {
          "output_type": "stream",
          "name": "stdout",
          "text": [
            "Classification report for classifier DecisionTreeClassifier():\n",
            "              precision    recall  f1-score   support\n",
            "\n",
            "           0       0.98      0.93      0.95        88\n",
            "           1       0.81      0.60      0.69        91\n",
            "           2       0.86      0.73      0.79        86\n",
            "           3       0.65      0.71      0.68        91\n",
            "           4       0.83      0.80      0.82        92\n",
            "           5       0.60      0.74      0.66        91\n",
            "           6       0.80      0.93      0.86        91\n",
            "           7       0.86      0.70      0.77        89\n",
            "           8       0.63      0.65      0.64        88\n",
            "           9       0.66      0.75      0.70        92\n",
            "\n",
            "    accuracy                           0.76       899\n",
            "   macro avg       0.77      0.76      0.76       899\n",
            "weighted avg       0.77      0.76      0.76       899\n",
            "\n",
            "\n"
          ]
        }
      ]
    },
    {
      "cell_type": "code",
      "source": [
        "disp = metrics.ConfusionMatrixDisplay.from_predictions(y_test, predicted)\n",
        "disp.figure_.suptitle(\"Matriz de Confusão\")\n",
        "print(f\"Matriz de Confusão:\\n{disp.confusion_matrix}\")\n",
        "\n",
        "plt.show()\n"
      ],
      "metadata": {
        "colab": {
          "base_uri": "https://localhost:8080/",
          "height": 688
        },
        "id": "eJCQrJzRXibm",
        "outputId": "5a0a698f-f42f-4121-d6e0-3475d5798781"
      },
      "execution_count": 9,
      "outputs": [
        {
          "output_type": "stream",
          "name": "stdout",
          "text": [
            "Matriz de Confusão:\n",
            "[[82  0  0  0  1  2  0  0  1  2]\n",
            " [ 0 55  5  7  8  1  1  2  5  7]\n",
            " [ 1  1 63  7  1  1  3  2  5  2]\n",
            " [ 0  4  0 65  0  4  0  3 10  5]\n",
            " [ 1  0  0  0 74  6  6  1  3  1]\n",
            " [ 0  1  0  0  0 67  4  0  2 17]\n",
            " [ 0  2  1  1  0  1 85  0  1  0]\n",
            " [ 0  1  0 14  0  8  0 62  3  1]\n",
            " [ 0  2  4  3  4  8  7  2 57  1]\n",
            " [ 0  2  0  3  1 13  0  0  4 69]]\n"
          ]
        },
        {
          "output_type": "display_data",
          "data": {
            "text/plain": [
              "<Figure size 640x480 with 2 Axes>"
            ],
            "image/png": "[encoded data removed]"
          },
          "metadata": {}
        }
      ]
    },
    {
      "cell_type": "markdown",
      "source": [
        "# pyXAI"
      ],
      "metadata": {
        "id": "frfv40pNX2QI"
      }
    },
    {
      "cell_type": "markdown",
      "source": [
        "## Instalçoes e Importações"
      ],
      "metadata": {
        "id": "e_Mi0wamYFP0"
      }
    },
    {
      "cell_type": "code",
      "source": [
        "!pip install pyxai -q"
      ],
      "metadata": {
        "id": "1_ET8JvOYIAU"
      },
      "execution_count": null,
      "outputs": []
    },
    {
      "cell_type": "code",
      "source": [
        "from pyxai import Learning, Explainer, Tools"
      ],
      "metadata": {
        "id": "aj0gsClLYJoj"
      },
      "execution_count": 13,
      "outputs": []
    },
    {
      "cell_type": "code",
      "source": [
        "feature_names = digits.feature_names\n",
        "\n",
        "\n",
        "# Carregar o dataset digits\n",
        "digits = datasets.load_digits()\n",
        "\n",
        "# Aplanar as imagens para transformar em vetores (igual você já fez antes)\n",
        "n_samples = len(digits.images)\n",
        "data = digits.images.reshape((n_samples, -1))\n",
        "\n",
        "# Combinar os dados com as labels (rótulos) e salvar em um dataframe\n",
        "df = pd.DataFrame(data)\n",
        "df['label'] = digits.target  # Adiciona a coluna de rótulos\n",
        "\n",
        "# Salvar o dataframe em um arquivo CSV\n",
        "dataset_filename = \"digits_dataset.csv\"\n",
        "df.to_csv(dataset_filename, index=False)\n",
        "\n",
        "print(f\"Dataset salvo como {dataset_filename}\")"
      ],
      "metadata": {
        "id": "EVQcOThNZr-5",
        "colab": {
          "base_uri": "https://localhost:8080/"
        },
        "outputId": "c5c28bb7-4fb1-4e32-a357-f1ae7100f0ce"
      },
      "execution_count": 12,
      "outputs": [
        {
          "output_type": "stream",
          "name": "stdout",
          "text": [
            "Dataset salvo como digits_dataset.csv\n"
          ]
        }
      ]
    },
    {
      "cell_type": "markdown",
      "source": [
        "#### Explicação Geral\n",
        "\n",
        "Decision Tree Model: Informa que o modelo utilizado é uma árvore de decisão, confirmando o tipo de algoritmo treinado.\n",
        "\n",
        "nFeatures: 64: Refere-se ao número de características (features) utilizadas pelo modelo. No caso do dataset de dígitos, cada imagem foi convertida em um vetor de 64 valores (8x8 pixels), então esse número representa a quantidade total de pixels da imagem que são usados como entrada para o modelo.\n",
        "\n",
        "nNodes: 94: Esse número refere-se à quantidade total de nós na árvore de decisão. Um nó é um ponto de decisão na árvore, onde o modelo escolhe uma característica para fazer uma divisão que separa os dados em diferentes classes.\n",
        "\n",
        "nVariables: 93: Esse valor representa a quantidade de variáveis ou divisões que o modelo fez ao construir a árvore. Cada vez que a árvore faz uma decisão, ela usa uma variável (um pixel neste caso) para dividir os dados."
      ],
      "metadata": {
        "id": "gG9fDCgabKpp"
      }
    },
    {
      "cell_type": "code",
      "source": [
        "learner, model = Learning.import_models(clf, feature_names)\n",
        "\n",
        "\n",
        "#--------------- Explicador ----------------\n",
        "#Para a avaliação número 0:\n",
        "#**Modelo de árvore de decisão**\n",
        "#nCaracterísticas: 64\n",
        "#nNós: 94\n",
        "#nVariáveis: 93"
      ],
      "metadata": {
        "colab": {
          "base_uri": "https://localhost:8080/"
        },
        "id": "TJMdN-9EYVAY",
        "outputId": "a90d29e5-d31a-4cd0-c1eb-e0d8a6d85a56"
      },
      "execution_count": 14,
      "outputs": [
        {
          "output_type": "stream",
          "name": "stdout",
          "text": [
            "---------------   Explainer   ----------------\n",
            "For the evaluation number 0:\n",
            "**Decision Tree Model**\n",
            "nFeatures: 64\n",
            "nNodes: 94\n",
            "nVariables: 94\n",
            "\n"
          ]
        }
      ]
    },
    {
      "cell_type": "code",
      "source": [
        "#instance, prediction = learner.get_instances(model, n=1, correct=True, predictions=[0], dataset=\"/content/digits_dataset.csv\")\n",
        "# predictions=[0] - label 0\n",
        "instance, prediction = learner.get_instances(model, n=1, correct=True, predictions=[0],dataset=\"/content/digits_dataset.csv\")\n",
        "print('Número da Classe: ', prediction)\n",
        "print('Instância: ', instance)"
      ],
      "metadata": {
        "colab": {
          "base_uri": "https://localhost:8080/"
        },
        "id": "HOqxnFCbiAvf",
        "outputId": "967e1e13-2182-41a5-a497-364b43c45a63"
      },
      "execution_count": 23,
      "outputs": [
        {
          "output_type": "stream",
          "name": "stdout",
          "text": [
            "---------------   Instances   ----------------\n",
            "number of instances selected: 1\n",
            "----------------------------------------------\n",
            "Número da Classe:  0\n",
            "Instância:  [ 0.  0.  5. 13.  9.  1.  0.  0.  0.  0. 13. 15. 10. 15.  5.  0.  0.  3.\n",
            " 15.  2.  0. 11.  8.  0.  0.  4. 12.  0.  0.  8.  8.  0.  0.  5.  8.  0.\n",
            "  0.  9.  8.  0.  0.  4. 11.  0.  1. 12.  7.  0.  0.  2. 14.  5. 10. 12.\n",
            "  0.  0.  0.  0.  6. 13. 10.  0.  0.  0.]\n"
          ]
        }
      ]
    },
    {
      "cell_type": "code",
      "source": [
        "explainer = Explainer.decision_tree(model, instance)\n",
        "print(\"instance:\", instance)\n",
        "\n",
        "\n",
        "print(\"\"\"\n",
        "Esse resultado mostra uma instância (um exemplo) dos dados de dígitos após serem achatados.\n",
        "Cada valor no array corresponde à intensidade de um pixel em uma imagem 8x8 de um dígito manuscrito.\n",
        "\"\"\")"
      ],
      "metadata": {
        "colab": {
          "base_uri": "https://localhost:8080/"
        },
        "id": "8pzakw79iJnB",
        "outputId": "a713c542-f3e7-4c88-cadc-31de5df74163"
      },
      "execution_count": 24,
      "outputs": [
        {
          "output_type": "stream",
          "name": "stdout",
          "text": [
            "instance: [ 0.  0.  5. 13.  9.  1.  0.  0.  0.  0. 13. 15. 10. 15.  5.  0.  0.  3.\n",
            " 15.  2.  0. 11.  8.  0.  0.  4. 12.  0.  0.  8.  8.  0.  0.  5.  8.  0.\n",
            "  0.  9.  8.  0.  0.  4. 11.  0.  1. 12.  7.  0.  0.  2. 14.  5. 10. 12.\n",
            "  0.  0.  0.  0.  6. 13. 10.  0.  0.  0.]\n",
            "\n",
            "Esse resultado mostra uma instância (um exemplo) dos dados de dígitos após serem achatados.\n",
            "Cada valor no array corresponde à intensidade de um pixel em uma imagem 8x8 de um dígito manuscrito.\n",
            "\n"
          ]
        }
      ]
    },
    {
      "cell_type": "code",
      "source": [
        "if len(explainer.binary_representation) < 15:\n",
        "    print(\"binary representation: \", explainer.binary_representation)\n",
        "else:\n",
        "  #print(\"else binary representation: \", explainer.binary_representation)\n",
        "  pass\n",
        "\n",
        "print(\"prediction: \", prediction)\n",
        "print(\"len binary representation\", len(explainer.binary_representation))\n"
      ],
      "metadata": {
        "colab": {
          "base_uri": "https://localhost:8080/"
        },
        "id": "T4SkCtv1iSy0",
        "outputId": "62df74f2-7080-49ca-e86a-f570315c413d"
      },
      "execution_count": 27,
      "outputs": [
        {
          "output_type": "stream",
          "name": "stdout",
          "text": [
            "prediction:  0\n",
            "len binary representation 94\n"
          ]
        }
      ]
    },
    {
      "cell_type": "markdown",
      "source": [
        "#### Explicaçã da Justificativa Direta\n",
        "\n",
        "1. len direct: 4\n",
        "\n",
        "    O número 4 aqui indica que a justificativa direta para a previsão foi composta por quatro regras, ou seja, quatro condições foram necessárias para chegar à decisão final do modelo para essa instância (um dígito específico).\n",
        "\n",
        "2. is a reason: True\n",
        "\n",
        "    Isso significa que o conjunto de condições (regras) encontradas é de fato uma justificativa válida para a previsão feita pelo modelo. Ou seja, essas condições explicam adequadamente por que o modelo fez aquela previsão.\n",
        "\n",
        "3. to features ('pixel_1_5 > 1.0', 'pixel_4_4 <= 0.5', 'pixel_4_5 > 0.5', 'pixel_5_2 > 7.5')\n",
        "\n",
        "    As regras extraídas da árvore de decisão foram traduzidas em termos de pixels da imagem dos dígitos manuscritos.\n",
        "\n",
        "    Cada regra representa uma condição baseada na intensidade de um pixel específico da imagem de um dígito (nesse caso, uma imagem 8x8, pois o dataset digits contém imagens 8x8 de números manuscritos).\n",
        "\n",
        "    Explicação das condições:\n",
        "        pixel_1_5 > 1.0: O valor do pixel localizado na linha 1 e coluna 5 da imagem deve ser maior que 1.0 para essa justificativa.\n",
        "        pixel_4_4 <= 0.5: O valor do pixel na linha 4 e coluna 4 da imagem deve ser menor ou igual a 0.5.\n",
        "        pixel_4_5 > 0.5: O valor do pixel na linha 4 e coluna 5 deve ser maior que 0.5.\n",
        "        pixel_5_2 > 7.5: O valor do pixel na linha 5 e coluna 2 da imagem deve ser maior que 7.5.\n",
        "\n",
        "Essas condições representam quais pixels específicos da imagem foram mais relevantes para o modelo ao tomar sua decisão de classificar o dígito. Em uma imagem de um dígito manuscrito, os pixels com valores maiores indicam onde há mais \"tinta\" (ou traços), e o modelo usa essas informações para decidir qual número o dígito representa."
      ],
      "metadata": {
        "id": "VftzQHnVAGG_"
      }
    },
    {
      "cell_type": "code",
      "source": [
        "#justificativa direta\"\n",
        "\n",
        "direct_reason = explainer.direct_reason()\n",
        "print(\"\\nlen direct:\", len(direct_reason))\n",
        "print(\"is a reason:\", explainer.is_reason(direct_reason))\n",
        "print(\"to features\", explainer.to_features(direct_reason))\n"
      ],
      "metadata": {
        "colab": {
          "base_uri": "https://localhost:8080/"
        },
        "id": "DH1uKTqmi7Ug",
        "outputId": "49e56f13-1c74-4b39-eb15-b26059bae667"
      },
      "execution_count": 21,
      "outputs": [
        {
          "output_type": "stream",
          "name": "stdout",
          "text": [
            "\n",
            "len direct: 4\n",
            "is a reason: True\n",
            "to features ('pixel_1_5 > 1.0', 'pixel_4_4 <= 0.5', 'pixel_4_5 > 0.5', 'pixel_5_2 > 7.5')\n"
          ]
        }
      ]
    },
    {
      "cell_type": "markdown",
      "source": [
        "### Explicação Razão suficiente\n",
        "\n",
        "1. sufficient_reason = explainer.sufficient_reason(n=1)\n",
        "\n",
        "    Aqui, o método sufficient_reason está sendo chamado para encontrar uma razão suficiente para a decisão do modelo. A razão suficiente é um conjunto mínimo de regras que, se satisfeitas, levam à mesma previsão.\n",
        "    O parâmetro n=1 indica que queremos apenas uma dessas razões suficientes.\n",
        "\n",
        "2. len sufficient_reason: X\n",
        "\n",
        "    Essa linha imprime o tamanho (quantidade de regras) da razão suficiente encontrada. O número X indica quantas condições (regras) são necessárias para garantir a previsão correta.\n",
        "    O tamanho da razão suficiente normalmente será menor do que o da razão direta (direct_reason), porque ela busca um conjunto mínimo de regras que ainda são suficientes para justificar a previsão.\n",
        "\n",
        "3. to features\n",
        "\n",
        "    explainer.to_features(sufficient_reason) traduz a razão suficiente em termos de características (no caso do conjunto de dados de dígitos, isso significa os pixels da imagem).\n",
        "    Assim como na explicação anterior, cada regra vai indicar condições sobre a intensidade de certos pixels da imagem. Por exemplo: pixel_1_5 > 1.0.\n",
        "\n",
        "4. is sufficient_reason (for max 50 checks):\n",
        "\n",
        "    explainer.is_sufficient_reason(sufficient_reason, n_samples=50) verifica se a razão suficiente realmente é válida.\n",
        "    Aqui, o método está fazendo até 50 verificações para garantir que a razão suficiente encontrada sempre leve à mesma previsão, independentemente de outras características.\n",
        "    O resultado será True se a razão suficiente for válida, ou seja, se esse conjunto mínimo de regras sempre leva à mesma previsão que o modelo fez originalmente.\n",
        "\n",
        "Resumo:\n",
        "\n",
        "    Razão suficiente é um conjunto mínimo de condições que justifica a previsão do modelo. Enquanto a razão direta pode incluir várias regras, a razão suficiente tenta reduzir essas condições ao menor número possível, sem perder a precisão na previsão.\n",
        "    O código está verificando se esse conjunto mínimo de regras é realmente suficiente para garantir a previsão correta, fazendo até 50 verificações. Isso ajuda a entender o mínimo necessário que o modelo considera ao classificar os dígitos, tornando o processo de explicação mais eficiente e claro."
      ],
      "metadata": {
        "id": "8X4U5dg7AjJI"
      }
    },
    {
      "cell_type": "code",
      "source": [
        "# Razão suficiente\n",
        "\n",
        "sufficient_reason = explainer.sufficient_reason(n=1)\n",
        "print(\"\\nlen sufficient reason:\", len(sufficient_reason))\n",
        "print(\"to features\", explainer.to_features(sufficient_reason))\n",
        "print(\"is sufficient_reason (for max 50 checks): \", explainer.is_sufficient_reason(sufficient_reason, n_samples=50))\n"
      ],
      "metadata": {
        "colab": {
          "base_uri": "https://localhost:8080/"
        },
        "id": "-8C0Ui6kjNbH",
        "outputId": "25e40988-857f-4fc1-a670-9f8eabedb11b"
      },
      "execution_count": 28,
      "outputs": [
        {
          "output_type": "stream",
          "name": "stdout",
          "text": [
            "\n",
            "len sufficient reason: 4\n",
            "to features ('pixel_1_5 > 1.0', 'pixel_4_4 <= 0.5', 'pixel_4_5 > 0.5', 'pixel_5_2 > 7.5')\n",
            "is sufficient_reason (for max 50 checks):  True\n"
          ]
        }
      ]
    },
    {
      "cell_type": "markdown",
      "source": [
        "### Explicação das razões mínimas, literais necessários e literais relevantes\n",
        "\n",
        "1. minimal_sufficient_reason\n",
        "\n",
        "    minimal = explainer.minimal_sufficient_reason(): Esse método busca uma razão suficiente mínima para a previsão do modelo. A ideia aqui é encontrar o conjunto mais reduzido possível de regras (ou condições) que ainda explicam a previsão corretamente.\n",
        "    O valor minimal: 4 indica que a razão suficiente mínima contém 4 regras, ou seja, são necessárias apenas 4 condições para explicar a previsão feita pelo modelo.\n",
        "    Esse conjunto de condições é o menor necessário para garantir a previsão.\n",
        "\n",
        "2. is_sufficient_reason\n",
        "\n",
        "    Aqui, novamente, o método explainer.is_sufficient_reason está verificando se a razão suficiente mínima é válida, fazendo até 50 verificações.\n",
        "    O resultado True confirma que essas 4 condições são suficientes para garantir que o modelo faça a mesma previsão em diferentes verificações.\n",
        "\n",
        "3. necessary_literals\n",
        "\n",
        "    necessary_literals() retorna os literais necessários. Um literal necessário é uma condição (regra) que deve estar presente para garantir que a previsão do modelo seja a mesma.\n",
        "    O retorno necessary literals: [-1, 2, 5, 9] indica que os literais (ou regras) associados às posições -1, 2, 5 e 9 são essenciais. Sem essas condições, o modelo não conseguiria fazer a previsão corretamente.\n",
        "        O literal -1 pode significar uma regra inversa ou um valor relacionado à saída do modelo, enquanto os outros valores indicam a importância de certas características, como pixels da imagem no caso dos dígitos.\n",
        "\n",
        "4. relevant_literals\n",
        "\n",
        "    relevant_literals() retorna os literais relevantes, que são condições que podem influenciar a previsão, mas não são essenciais. Elas afetam a decisão, mas podem ser removidas sem alterar o resultado final.\n",
        "    No seu caso, o retorno é relevant literals: [], o que significa que não há literais relevantes além dos necessários. Em outras palavras, todas as condições usadas pelo modelo são essenciais e não há regras extras que poderiam ser removidas sem impactar a previsão."
      ],
      "metadata": {
        "id": "S2laXwDgBELa"
      }
    },
    {
      "cell_type": "code",
      "source": [
        "minimal = explainer.minimal_sufficient_reason()\n",
        "print(\"\\nminimal:\", len(minimal))\n",
        "print(\"is sufficient_reason (for max 50 checks): \", explainer.is_sufficient_reason(sufficient_reason, n_samples=50))\n",
        "\n",
        "print(\"\\nnecessary literals: \", explainer.necessary_literals())\n",
        "print(\"\\nrelevant literals: \", explainer.relevant_literals())"
      ],
      "metadata": {
        "colab": {
          "base_uri": "https://localhost:8080/"
        },
        "id": "-JgmR4jLAYIw",
        "outputId": "a52187df-3055-4b2e-8202-0e39bdd17f62"
      },
      "execution_count": 29,
      "outputs": [
        {
          "output_type": "stream",
          "name": "stdout",
          "text": [
            "\n",
            "minimal: 4\n",
            "is sufficient_reason (for max 50 checks):  True\n",
            "\n",
            "necessary literals:  [-1, 2, 5, 9]\n",
            "\n",
            "relevant literals:  []\n"
          ]
        }
      ]
    },
    {
      "cell_type": "markdown",
      "source": [
        "### Explicação\n",
        "\n",
        "Explicação:\n",
        "\n",
        "    sufficient_reasons_per_attribute: Este método retorna um dicionário que mostra quantas vezes cada literal (ou atributo) contribuiu para formar uma razão suficiente. Em outras palavras, ele mapeia os atributos que foram usados como parte das razões suficientes e quantas razões suficientes envolveram cada um desses atributos.\n",
        "\n",
        "Interpretação dos resultados:\n",
        "\n",
        "    O resultado sufficient_reasons_per_attribute: {9: 1, 2: 1, 5: 1, -1: 1} significa que os seguintes atributos/literais estiveram presentes em exatamente uma razão suficiente cada:\n",
        "        9: Apareceu em uma razão suficiente.\n",
        "        2: Apareceu em uma razão suficiente.\n",
        "        5: Apareceu em uma razão suficiente.\n",
        "        -1: Apareceu em uma razão suficiente.\n",
        "\n",
        "Isso indica que esses 4 literais (ou atributos) são os únicos responsáveis por formar as razões suficientes, e cada um deles contribuiu exatamente uma vez para a explicação da previsão do modelo."
      ],
      "metadata": {
        "id": "sJbdfccnBZ3_"
      }
    },
    {
      "cell_type": "code",
      "source": [
        "sufficient_reasons_per_attribute = explainer.n_sufficient_reasons_per_attribute()\n",
        "print(\"\\nsufficient_reasons_per_attribute:\", sufficient_reasons_per_attribute)"
      ],
      "metadata": {
        "colab": {
          "base_uri": "https://localhost:8080/"
        },
        "id": "ftCq58nZAy4O",
        "outputId": "300dc8b8-5662-445e-d1b0-dc40df144e00"
      },
      "execution_count": 31,
      "outputs": [
        {
          "output_type": "stream",
          "name": "stdout",
          "text": [
            "\n",
            "sufficient_reasons_per_attribute: {9: 1, 2: 1, 5: 1, -1: 1}\n"
          ]
        }
      ]
    },
    {
      "cell_type": "markdown",
      "source": [
        "### Explicação: Razões contrastivas são explicações que mostram o que poderia ser diferente nos dados de entrada para que o modelo tivesse dado uma previsão oposta.\n",
        "\n",
        "    constractive_reasons = explainer.contrastive_reason(n=Explainer.ALL):\n",
        "        Aqui, o código gera todas as razões contrastivas possíveis para o exemplo analisado.\n",
        "        Razões contrastivas são basicamente explicações que indicam quais condições precisariam ser modificadas no conjunto de características (ou nos atributos da instância) para que o modelo previsse uma classe diferente.\n",
        "        O parâmetro n=Explainer.ALL significa que você está pedindo todas as razões contrastivas disponíveis.\n",
        "\n",
        "    len(constractive_reasons):\n",
        "        O código imprime a quantidade total de razões contrastivas geradas.\n",
        "        No seu caso, o valor é 4, ou seja, foram encontradas 4 razões contrastivas possíveis para o modelo.\n",
        "\n",
        "    Verificação das razões contrastivas:\n",
        "        O loop a seguir percorre cada uma das razões contrastivas geradas:\n",
        "\n",
        "        python\n",
        "\n",
        "    for contrastive in constractive_reasons:\n",
        "        if not explainer.is_contrastive_reason(contrastive):\n",
        "            print(f\"{contrastive} is not a contrastive reason\")\n",
        "            all_are_contrastive = False\n",
        "\n",
        "    Para cada razão contrastiva, ele usa a função explainer.is_contrastive_reason() para verificar se aquela razão realmente é válida como uma razão contrastiva.\n",
        "    Se a razão não for válida, o código imprime que não é uma razão contrastiva e define a variável all_are_contrastive como False.\n",
        "\n",
        "Resultado final:\n",
        "\n",
        "    Se todas as razões contrastivas forem válidas, a variável all_are_contrastive permanece como True e a mensagem \"All contrastive are ok\" é impressa."
      ],
      "metadata": {
        "id": "yNYYTKWWBtsc"
      }
    },
    {
      "cell_type": "code",
      "source": [
        "constractive_reasons = explainer.contrastive_reason(n=Explainer.ALL)\n",
        "print(\"\\nnb constractive_reasons:\", len(constractive_reasons))\n",
        "\n",
        "all_are_contrastive = True\n",
        "for contrastive in constractive_reasons:\n",
        "    if not explainer.is_contrastive_reason(contrastive):\n",
        "        print(f\"{contrastive} is not a contrastive reason\")\n",
        "        all_are_contrastive = False\n",
        "\n",
        "if all_are_contrastive:\n",
        "    print(\"All contrastive are ok\")"
      ],
      "metadata": {
        "colab": {
          "base_uri": "https://localhost:8080/"
        },
        "id": "neWv8NS6A0Xw",
        "outputId": "ceac4797-f258-42e4-e25a-bc9e967e6246"
      },
      "execution_count": 32,
      "outputs": [
        {
          "output_type": "stream",
          "name": "stdout",
          "text": [
            "\n",
            "nb constractive_reasons: 4\n",
            "All contrastive are ok\n"
          ]
        }
      ]
    }
  ]
}