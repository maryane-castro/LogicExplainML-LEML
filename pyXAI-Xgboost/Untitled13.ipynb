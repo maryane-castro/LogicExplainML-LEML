{
  "nbformat": 4,
  "nbformat_minor": 0,
  "metadata": {
    "colab": {
      "provenance": []
    },
    "kernelspec": {
      "name": "python3",
      "display_name": "Python 3"
    },
    "language_info": {
      "name": "python"
    }
  },
  "cells": [
    {
      "cell_type": "markdown",
      "source": [
        "# Sklearn"
      ],
      "metadata": {
        "id": "81Owa1_wYAcj"
      }
    },
    {
      "cell_type": "markdown",
      "source": [
        "## Importações"
      ],
      "metadata": {
        "id": "cZ1oAf4XWYuo"
      }
    },
    {
      "cell_type": "code",
      "execution_count": 19,
      "metadata": {
        "id": "UXx8uAWMV_E8"
      },
      "outputs": [],
      "source": [
        "import matplotlib.pyplot as plt\n",
        "\n",
        "# Import datasets, classifiers and performance metrics\n",
        "from sklearn import datasets, metrics\n",
        "from sklearn.model_selection import train_test_split\n",
        "from sklearn.tree import DecisionTreeClassifier"
      ]
    },
    {
      "cell_type": "markdown",
      "source": [
        "## Dataset"
      ],
      "metadata": {
        "id": "Lmm_lNaqWajW"
      }
    },
    {
      "cell_type": "code",
      "source": [
        "digits = datasets.load_digits()\n",
        "\n",
        "_, axes = plt.subplots(nrows=1, ncols=5, figsize=(10, 3))\n",
        "for ax, image, label in zip(axes, digits.images, digits.target):\n",
        "    ax.set_axis_off()\n",
        "    ax.imshow(image, cmap=plt.cm.gray_r, interpolation=\"nearest\")\n",
        "    ax.set_title(\"Training: %i\" % label)"
      ],
      "metadata": {
        "colab": {
          "base_uri": "https://localhost:8080/",
          "height": 212
        },
        "id": "TEjBhK8GWcfd",
        "outputId": "96a1e926-6337-4dcf-c4bf-fe511d83e0af"
      },
      "execution_count": 20,
      "outputs": [
        {
          "output_type": "display_data",
          "data": {
            "text/plain": [
              "<Figure size 1000x300 with 5 Axes>"
            ],
            "image/png": "[encoded data removed]"
          },
          "metadata": {}
        }
      ]
    },
    {
      "cell_type": "markdown",
      "source": [
        "## Treinamento"
      ],
      "metadata": {
        "id": "FE9YJ4FFXKPn"
      }
    },
    {
      "cell_type": "code",
      "source": [
        "# achatar as imagens\n",
        "n_samples = len(digits.images) # quantidade total de amostras\n",
        "data = digits.images.reshape((n_samples, -1))\n",
        "\n",
        "# Crie um classificador: um classificador de vetor de suporte\n",
        "clf = DecisionTreeClassifier()\n",
        "\n",
        "# Divida os dados em 50% de treinamento e 50% de subconjuntos de teste\n",
        "X_train, X_test, y_train, y_test = train_test_split(\n",
        "    data, digits.target, test_size=0.5, shuffle=False\n",
        ")\n",
        "\n",
        "# treinando nosso modelo\n",
        "clf.fit(X_train, y_train)\n",
        "\n",
        "# Preveja o valor do dígito no subconjunto de teste\n",
        "predicted = clf.predict(X_test)"
      ],
      "metadata": {
        "id": "PwqcOLlnWqA6"
      },
      "execution_count": 21,
      "outputs": []
    },
    {
      "cell_type": "markdown",
      "source": [
        "# Alguns Testes de Validação"
      ],
      "metadata": {
        "id": "i3W8Q0noXL7R"
      }
    },
    {
      "cell_type": "code",
      "source": [
        "_, axes = plt.subplots(nrows=1, ncols=4, figsize=(10, 3))\n",
        "for ax, image, prediction in zip(axes, X_test, predicted):\n",
        "    ax.set_axis_off()\n",
        "    image = image.reshape(8, 8)\n",
        "    ax.imshow(image, cmap=plt.cm.gray_r, interpolation=\"nearest\")\n",
        "    ax.set_title(f\"Prediction: {prediction}\")\n"
      ],
      "metadata": {
        "colab": {
          "base_uri": "https://localhost:8080/",
          "height": 247
        },
        "id": "3XHTUjTtXOj3",
        "outputId": "57f3ea8d-45c0-4140-af13-8af22fdc2154"
      },
      "execution_count": 22,
      "outputs": [
        {
          "output_type": "display_data",
          "data": {
            "text/plain": [
              "<Figure size 1000x300 with 4 Axes>"
            ],
            "image/png": "[encoded data removed]"
          },
          "metadata": {}
        }
      ]
    },
    {
      "cell_type": "code",
      "source": [
        "print(\n",
        "    f\"Classification report for classifier {clf}:\\n\"\n",
        "    f\"{metrics.classification_report(y_test, predicted)}\\n\"\n",
        ")"
      ],
      "metadata": {
        "colab": {
          "base_uri": "https://localhost:8080/"
        },
        "id": "ijUw5eRwXaeP",
        "outputId": "a9a19d88-ac9b-428f-e392-c0328a5daae5"
      },
      "execution_count": 23,
      "outputs": [
        {
          "output_type": "stream",
          "name": "stdout",
          "text": [
            "Classification report for classifier DecisionTreeClassifier():\n",
            "              precision    recall  f1-score   support\n",
            "\n",
            "           0       0.90      0.91      0.90        88\n",
            "           1       0.80      0.54      0.64        91\n",
            "           2       0.91      0.69      0.78        86\n",
            "           3       0.64      0.74      0.68        91\n",
            "           4       0.76      0.80      0.78        92\n",
            "           5       0.58      0.74      0.65        91\n",
            "           6       0.85      0.84      0.84        91\n",
            "           7       0.89      0.73      0.80        89\n",
            "           8       0.52      0.61      0.57        88\n",
            "           9       0.67      0.74      0.70        92\n",
            "\n",
            "    accuracy                           0.73       899\n",
            "   macro avg       0.75      0.73      0.74       899\n",
            "weighted avg       0.75      0.73      0.74       899\n",
            "\n",
            "\n"
          ]
        }
      ]
    },
    {
      "cell_type": "code",
      "source": [
        "disp = metrics.ConfusionMatrixDisplay.from_predictions(y_test, predicted)\n",
        "disp.figure_.suptitle(\"Matriz de Confusão\")\n",
        "print(f\"Matriz de Confusão:\\n{disp.confusion_matrix}\")\n",
        "\n",
        "plt.show()\n"
      ],
      "metadata": {
        "colab": {
          "base_uri": "https://localhost:8080/",
          "height": 708
        },
        "id": "eJCQrJzRXibm",
        "outputId": "94ab1675-de63-47c5-8bb8-8716e8d1502a"
      },
      "execution_count": 24,
      "outputs": [
        {
          "output_type": "stream",
          "name": "stdout",
          "text": [
            "Matriz de Confusão:\n",
            "[[80  0  0  1  1  4  2  0  0  0]\n",
            " [ 1 49  4  8 13  2  1  0  6  7]\n",
            " [ 1  3 59  9  1  0  3  0  8  2]\n",
            " [ 0  4  0 67  0  4  0  4 10  2]\n",
            " [ 6  0  0  0 74  4  3  1  3  1]\n",
            " [ 0  1  0  1  1 67  0  0  4 17]\n",
            " [ 1  2  0  2  0  1 76  0  9  0]\n",
            " [ 0  0  0  6  2  8  0 65  7  1]\n",
            " [ 0  0  2  6  5 12  4  2 54  3]\n",
            " [ 0  2  0  5  1 13  0  1  2 68]]\n"
          ]
        },
        {
          "output_type": "display_data",
          "data": {
            "text/plain": [
              "<Figure size 640x480 with 2 Axes>"
            ],
            "image/png": "[encoded data removed]"
          },
          "metadata": {}
        }
      ]
    },
    {
      "cell_type": "markdown",
      "source": [
        "# pyXAI"
      ],
      "metadata": {
        "id": "frfv40pNX2QI"
      }
    },
    {
      "cell_type": "markdown",
      "source": [
        "## Instalçoes e Importações"
      ],
      "metadata": {
        "id": "e_Mi0wamYFP0"
      }
    },
    {
      "cell_type": "code",
      "source": [
        "!pip install pyxai -q"
      ],
      "metadata": {
        "id": "1_ET8JvOYIAU"
      },
      "execution_count": null,
      "outputs": []
    },
    {
      "cell_type": "code",
      "source": [
        "from pyxai import Learning, Explainer, Tools"
      ],
      "metadata": {
        "id": "aj0gsClLYJoj"
      },
      "execution_count": 25,
      "outputs": []
    },
    {
      "cell_type": "code",
      "source": [
        "feature_names = digits.feature_names"
      ],
      "metadata": {
        "id": "EVQcOThNZr-5"
      },
      "execution_count": 26,
      "outputs": []
    },
    {
      "cell_type": "markdown",
      "source": [
        "#### Explicação Geral\n",
        "\n",
        "Decision Tree Model: Informa que o modelo utilizado é uma árvore de decisão, confirmando o tipo de algoritmo treinado.\n",
        "\n",
        "nFeatures: 64: Refere-se ao número de características (features) utilizadas pelo modelo. No caso do dataset de dígitos, cada imagem foi convertida em um vetor de 64 valores (8x8 pixels), então esse número representa a quantidade total de pixels da imagem que são usados como entrada para o modelo.\n",
        "\n",
        "nNodes: 94: Esse número refere-se à quantidade total de nós na árvore de decisão. Um nó é um ponto de decisão na árvore, onde o modelo escolhe uma característica para fazer uma divisão que separa os dados em diferentes classes.\n",
        "\n",
        "nVariables: 93: Esse valor representa a quantidade de variáveis ou divisões que o modelo fez ao construir a árvore. Cada vez que a árvore faz uma decisão, ela usa uma variável (um pixel neste caso) para dividir os dados."
      ],
      "metadata": {
        "id": "gG9fDCgabKpp"
      }
    },
    {
      "cell_type": "code",
      "source": [
        "learner, model = Learning.import_models(clf, feature_names)\n",
        "\n",
        "\n",
        "#--------------- Explicador ----------------\n",
        "#Para a avaliação número 0:\n",
        "#**Modelo de árvore de decisão**\n",
        "#nCaracterísticas: 64\n",
        "#nNós: 94\n",
        "#nVariáveis: 93"
      ],
      "metadata": {
        "colab": {
          "base_uri": "https://localhost:8080/"
        },
        "id": "TJMdN-9EYVAY",
        "outputId": "e91e7cd4-c37b-4a13-f6df-4ae40407ad93"
      },
      "execution_count": 27,
      "outputs": [
        {
          "output_type": "stream",
          "name": "stdout",
          "text": [
            "---------------   Explainer   ----------------\n",
            "For the evaluation number 0:\n",
            "**Decision Tree Model**\n",
            "nFeatures: 64\n",
            "nNodes: 94\n",
            "nVariables: 93\n",
            "\n"
          ]
        }
      ]
    },
    {
      "cell_type": "code",
      "source": [
        "import numpy as np\n",
        "from sklearn import datasets\n",
        "import pandas as pd\n",
        "\n",
        "# Carregar o dataset digits\n",
        "digits = datasets.load_digits()\n",
        "\n",
        "# Aplanar as imagens para transformar em vetores (igual você já fez antes)\n",
        "n_samples = len(digits.images)\n",
        "data = digits.images.reshape((n_samples, -1))\n",
        "\n",
        "# Combinar os dados com as labels (rótulos) e salvar em um dataframe\n",
        "df = pd.DataFrame(data)\n",
        "df['label'] = digits.target  # Adiciona a coluna de rótulos\n",
        "\n",
        "# Salvar o dataframe em um arquivo CSV\n",
        "dataset_filename = \"digits_dataset.csv\"\n",
        "df.to_csv(dataset_filename, index=False)\n",
        "\n",
        "print(f\"Dataset salvo como {dataset_filename}\")\n"
      ],
      "metadata": {
        "colab": {
          "base_uri": "https://localhost:8080/"
        },
        "id": "DoOFJTYKh2Jc",
        "outputId": "e72a8184-6ba1-4dc3-9c44-90c77ed20e5f"
      },
      "execution_count": 33,
      "outputs": [
        {
          "output_type": "stream",
          "name": "stdout",
          "text": [
            "Dataset salvo como digits_dataset.csv\n"
          ]
        }
      ]
    },
    {
      "cell_type": "code",
      "source": [
        "#instance, prediction = learner.get_instances(model, n=1, correct=True, predictions=[0], dataset=\"/content/digits_dataset.csv\")"
      ],
      "metadata": {
        "id": "IH_mEQNma2cC"
      },
      "execution_count": 38,
      "outputs": []
    },
    {
      "cell_type": "code",
      "source": [
        "instance, prediction = learner.get_instances(model, n=1, correct=True, predictions=[0],dataset=\"/content/digits_dataset.csv\")\n",
        "print('Número da Classe: ', prediction)"
      ],
      "metadata": {
        "colab": {
          "base_uri": "https://localhost:8080/"
        },
        "id": "HOqxnFCbiAvf",
        "outputId": "fa761a69-7835-4432-8402-729068d6e663"
      },
      "execution_count": 55,
      "outputs": [
        {
          "output_type": "stream",
          "name": "stdout",
          "text": [
            "---------------   Instances   ----------------\n",
            "number of instances selected: 1\n",
            "----------------------------------------------\n",
            "Número da Classe:  0\n"
          ]
        }
      ]
    },
    {
      "cell_type": "code",
      "source": [
        "explainer = Explainer.decision_tree(model, instance)\n",
        "print(\"instance:\", instance)\n",
        "\n",
        "\n",
        "\"\"\"\n",
        "Esse resultado mostra uma instância (um exemplo) dos dados de dígitos após serem achatados.\n",
        "Cada valor no array corresponde à intensidade de um pixel em uma imagem 8x8 de um dígito manuscrito.\n",
        "\"\"\""
      ],
      "metadata": {
        "colab": {
          "base_uri": "https://localhost:8080/"
        },
        "id": "8pzakw79iJnB",
        "outputId": "722a8e01-291e-4f75-f780-84303114ceff"
      },
      "execution_count": 40,
      "outputs": [
        {
          "output_type": "stream",
          "name": "stdout",
          "text": [
            "instance: [ 0.  0.  5. 13.  9.  1.  0.  0.  0.  0. 13. 15. 10. 15.  5.  0.  0.  3.\n",
            " 15.  2.  0. 11.  8.  0.  0.  4. 12.  0.  0.  8.  8.  0.  0.  5.  8.  0.\n",
            "  0.  9.  8.  0.  0.  4. 11.  0.  1. 12.  7.  0.  0.  2. 14.  5. 10. 12.\n",
            "  0.  0.  0.  0.  6. 13. 10.  0.  0.  0.]\n"
          ]
        }
      ]
    },
    {
      "cell_type": "code",
      "source": [
        "if len(explainer.binary_representation) < 15:\n",
        "    print(\"binary representation: \", explainer.binary_representation)\n",
        "print(\"prediction:\", prediction)\n",
        "print(\"len binary representation\", len(explainer.binary_representation))\n"
      ],
      "metadata": {
        "colab": {
          "base_uri": "https://localhost:8080/"
        },
        "id": "T4SkCtv1iSy0",
        "outputId": "f5ce68ff-1f44-4efa-a7cf-ace076ec66d1"
      },
      "execution_count": 56,
      "outputs": [
        {
          "output_type": "stream",
          "name": "stdout",
          "text": [
            "prediction: 0\n",
            "len binary representation 93\n"
          ]
        }
      ]
    },
    {
      "cell_type": "code",
      "source": [
        "direct_reason = explainer.direct_reason()\n",
        "print(\"\\nlen direct:\", len(direct_reason))\n",
        "print(\"is a reason:\", explainer.is_reason(direct_reason))\n",
        "print(\"to features\", explainer.to_features(direct_reason))\n"
      ],
      "metadata": {
        "colab": {
          "base_uri": "https://localhost:8080/"
        },
        "id": "DH1uKTqmi7Ug",
        "outputId": "d1a9ffe2-46c9-469d-c714-5292ed0ed627"
      },
      "execution_count": 60,
      "outputs": [
        {
          "output_type": "stream",
          "name": "stdout",
          "text": [
            "\n",
            "len direct: 4\n",
            "is a reason: True\n",
            "to features ('pixel_4_4 <= 0.5', 'pixel_4_5 > 0.5', 'pixel_5_2 > 7.5', 'pixel_6_2 > 5.5')\n"
          ]
        }
      ]
    },
    {
      "cell_type": "code",
      "source": [
        "sufficient_reason = explainer.sufficient_reason(n=1)\n",
        "print(\"\\nlen sufficient reason:\", len(sufficient_reason))\n",
        "print(\"to features\", explainer.to_features(sufficient_reason))\n",
        "print(\"is sufficient_reason (for max 50 checks): \", explainer.is_sufficient_reason(sufficient_reason, n_samples=50))\n",
        "print()\n",
        "minimal = explainer.minimal_sufficient_reason()\n",
        "print(\"\\nminimal:\", len(minimal))\n",
        "print(\"is sufficient_reason (for max 50 checks): \", explainer.is_sufficient_reason(sufficient_reason, n_samples=50))\n",
        "\n",
        "print(\"\\nnecessary literals: \", explainer.necessary_literals())\n",
        "print(\"\\nrelevant literals: \", explainer.relevant_literals())\n",
        "\n",
        "sufficient_reasons_per_attribute = explainer.n_sufficient_reasons_per_attribute()\n",
        "print(\"\\nsufficient_reasons_per_attribute:\", sufficient_reasons_per_attribute)\n",
        "\n",
        "constractive_reasons = explainer.contrastive_reason(n=Explainer.ALL)\n",
        "print(\"\\nnb constractive_reasons:\", len(constractive_reasons))\n",
        "\n",
        "all_are_contrastive = True\n",
        "for contrastive in constractive_reasons:\n",
        "    if not explainer.is_contrastive_reason(contrastive):\n",
        "        print(f\"{contrastive} is not a contrastive reason\")\n",
        "        all_are_contrastive = False\n",
        "\n",
        "if all_are_contrastive:\n",
        "    print(\"All contrastive are ok\")\n",
        "\n",
        "#explainer.visualisation.gui()"
      ],
      "metadata": {
        "colab": {
          "base_uri": "https://localhost:8080/"
        },
        "id": "-8C0Ui6kjNbH",
        "outputId": "1ac7671b-16d6-47d0-94ae-2f480901e13b"
      },
      "execution_count": 59,
      "outputs": [
        {
          "output_type": "stream",
          "name": "stdout",
          "text": [
            "\n",
            "len sufficient reason: 4\n",
            "to features ('pixel_4_4 <= 0.5', 'pixel_4_5 > 0.5', 'pixel_5_2 > 7.5', 'pixel_6_2 > 5.5')\n",
            "is sufficient_reason (for max 50 checks):  True\n",
            "\n",
            "\n",
            "minimal: 4\n",
            "is sufficient_reason (for max 50 checks):  True\n",
            "\n",
            "necessary literals:  [-1, 2, 5, 9]\n",
            "\n",
            "relevant literals:  []\n",
            "\n",
            "sufficient_reasons_per_attribute: {9: 1, 2: 1, 5: 1, -1: 1}\n",
            "\n",
            "nb constractive_reasons: 4\n",
            "All contrastive are ok\n"
          ]
        }
      ]
    }
  ]
}